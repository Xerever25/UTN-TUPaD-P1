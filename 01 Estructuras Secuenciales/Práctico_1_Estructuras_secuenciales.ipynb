{
 "cells": [
  {
   "cell_type": "code",
   "execution_count": 37,
   "metadata": {},
   "outputs": [
    {
     "name": "stdout",
     "output_type": "stream",
     "text": [
      "Hola Mundo!\n"
     ]
    }
   ],
   "source": [
    "#1) Crear un programa que imprima por pantalla el mensaje: “Hola Mundo!”\n",
    "\n",
    "print(\"Hola Mundo!\")"
   ]
  },
  {
   "cell_type": "code",
   "execution_count": 38,
   "metadata": {},
   "outputs": [
    {
     "name": "stdout",
     "output_type": "stream",
     "text": [
      "hola ju !\n"
     ]
    }
   ],
   "source": [
    "\"\"\"\n",
    "2) Crear un programa que pida al usuario su nombre e imprima por pantalla un saludo usando\n",
    "el nombre ingresado. Por ejemplo: si el usuario ingresa “Marcos”, el programa debe imprimir\n",
    "por pantalla “Hola Marcos!”\n",
    "\"\"\"\n",
    "nombre = input(\"escriba su nombre\")\n",
    "\n",
    "print(\"hola\",nombre,\"!\")"
   ]
  },
  {
   "cell_type": "code",
   "execution_count": 39,
   "metadata": {},
   "outputs": [
    {
     "name": "stdout",
     "output_type": "stream",
     "text": [
      "soy ju bc tengo 12 años y vivo en a\n"
     ]
    }
   ],
   "source": [
    "\"\"\"\n",
    "3) Crear un programa que pida al usuario su nombre, apellido, edad y lugar de residencia e\n",
    "imprima por pantalla una oración con los datos ingresados. Por ejemplo: si el usuario ingresa\n",
    "“Marcos”, “Pérez”, “30” y “Argentina”, el programa debe imprimir “Soy Marcos Pérez, tengo 30\n",
    "años y vivo en Argentina”. Consejo: esto será más sencillo si utilizas print(f…) para realizar\n",
    "la impresión por pantalla.\n",
    "\"\"\"\n",
    "nombre = input(\"escriba su nombre\")\n",
    "\n",
    "apellido = input(\"escriba su apellido\")\n",
    "\n",
    "edad = input (\"ingrese su edad\")\n",
    "\n",
    "residencia = input(\"ingrese su lugar de residencia\")\n",
    "\n",
    "print(\"soy\",nombre,apellido,\"tengo\",edad,\"años y vivo en\",residencia)"
   ]
  },
  {
   "cell_type": "code",
   "execution_count": 40,
   "metadata": {},
   "outputs": [
    {
     "name": "stdout",
     "output_type": "stream",
     "text": [
      "el area de la circunferencia con el radio de longitud 12 es: 452.3893421169302\n",
      "el perimetro de la circunferencia con el radio de longitud 12 es: 75.39822368615503\n"
     ]
    }
   ],
   "source": [
    "\"\"\"\n",
    "4) Crear un programa que pida al usuario el radio de un círculo e imprima por pantalla su área y\n",
    "su perímetro.\n",
    "\"\"\"\n",
    "pi = 3.141592653589793\n",
    "radio= int(input(\"ingrese el radio del circulo\"))\n",
    "\n",
    "area= pi*radio**2\n",
    "\n",
    "perimetro= 2*pi*radio\n",
    "\n",
    "print(\"el area de la circunferencia con el radio de longitud\",radio,\"es:\",area)\n",
    "\n",
    "print(\"el perimetro de la circunferencia con el radio de longitud\",radio,\"es:\",perimetro)"
   ]
  },
  {
   "cell_type": "code",
   "execution_count": 41,
   "metadata": {},
   "outputs": [
    {
     "name": "stdout",
     "output_type": "stream",
     "text": [
      "la cantidad de segundos equivalen a: 1.0 horas\n"
     ]
    }
   ],
   "source": [
    "\n",
    "\"\"\"\n",
    "5) Crear un programa que pida al usuario una cantidad de segundos e imprima por pantalla a\n",
    "cuántas horas equivale.\n",
    "\"\"\"\n",
    "\n",
    "segundos= int(input(\"ingrese la cantidad de segundos para hacer la equivalencia en horas\"))\n",
    "\n",
    "horas= segundos/3600\n",
    "\n",
    "print(\"la cantidad de segundos equivalen a:\",horas,\"horas\")\n"
   ]
  },
  {
   "cell_type": "code",
   "execution_count": 42,
   "metadata": {},
   "outputs": [
    {
     "name": "stdout",
     "output_type": "stream",
     "text": [
      "3 x 1 = 3\n",
      "3 x 2 = 6\n",
      "3 x 3 = 9\n",
      "3 x 4 = 12\n",
      "3 x 5 = 15\n",
      "3 x 6 = 18\n",
      "3 x 7 = 21\n",
      "3 x 8 = 24\n",
      "3 x 9 = 27\n",
      "3 x 10 = 30\n"
     ]
    }
   ],
   "source": [
    "\"\"\"\n",
    "6) Crear un programa que pida al usuario un número e imprima por pantalla la tabla de\n",
    "multiplicar de dicho número.\n",
    "\"\"\"\n",
    "\n",
    "numero = int(input(\"Ingresa un número: \"))\n",
    "\n",
    "\n",
    "print(f\"{numero} x 1 = {numero * 1}\")\n",
    "print(f\"{numero} x 2 = {numero * 2}\")\n",
    "print(f\"{numero} x 3 = {numero * 3}\")\n",
    "print(f\"{numero} x 4 = {numero * 4}\")\n",
    "print(f\"{numero} x 5 = {numero * 5}\")\n",
    "print(f\"{numero} x 6 = {numero * 6}\")\n",
    "print(f\"{numero} x 7 = {numero * 7}\")\n",
    "print(f\"{numero} x 8 = {numero * 8}\")\n",
    "print(f\"{numero} x 9 = {numero * 9}\")\n",
    "print(f\"{numero} x 10 = {numero * 10}\")\n"
   ]
  },
  {
   "cell_type": "code",
   "execution_count": 43,
   "metadata": {},
   "outputs": [
    {
     "name": "stdout",
     "output_type": "stream",
     "text": [
      "aqui estan los resultados \n",
      " suma: 3 \n",
      " resta: -1 \n",
      " multiplicacion: 2 \n",
      " division: 0.5\n"
     ]
    }
   ],
   "source": [
    "\"\"\"\n",
    "7) Crear un programa que pida al usuario dos números enteros distintos del 0 y muestre por\n",
    "pantalla el resultado de sumarlos, dividirlos, multiplicarlos y restarlos.\n",
    "\"\"\"\n",
    "numero1 = int(input(\"ingrese el primer numero\"))\n",
    "\n",
    "numero2 = int(input(\"ingrese el segundo numero\"))\n",
    "\n",
    "suma= numero1 + numero2\n",
    "\n",
    "divicion= numero1 / numero2\n",
    "\n",
    "multiplicacion = numero1 * numero2\n",
    "\n",
    "resta = numero1 - numero2\n",
    "\n",
    "print(f\"aqui estan los resultados \\n suma: {suma} \\n resta: {resta} \\n multiplicacion: {multiplicacion} \\n division: {divicion}\" )"
   ]
  },
  {
   "cell_type": "code",
   "execution_count": null,
   "metadata": {},
   "outputs": [],
   "source": [
    "\"\"\"\n",
    "8) Crear un programa que pida al usuario su altura y su peso e imprima por pantalla su índice\n",
    "de masa corporal. Tener en cuenta que el índice de masa corporal se calcula del siguiente\n",
    "modo:\n",
    "\"\"\"\n",
    "\n",
    "altura = float(input(\"ingrese su altura en metros\"))\n",
    "\n",
    "peso = float(input(\"ingrese su peso en kg\"))\n",
    "\n",
    "imc= peso/(altura**2)\n",
    "\n",
    "print(f\"su imc es de: {imc}\")"
   ]
  },
  {
   "cell_type": "code",
   "execution_count": null,
   "metadata": {},
   "outputs": [],
   "source": [
    "\"\"\"\n",
    "9) Crear un programa que pida al usuario una temperatura en grados Celsius e imprima por\n",
    "pantalla su equivalente en grados Fahrenheit. Tener en cuenta la siguiente equivalencia:\n",
    "\"\"\"\n",
    "Celsius = int(input(\"ingrese la temperatura en celcius para pasar a farenheit\"))\n",
    "\n",
    "farenheit = (9/5)* Celsius + 32\n",
    "\n",
    "print(f\"la temperatura en grados farenheit es de: {farenheit}\")"
   ]
  },
  {
   "cell_type": "code",
   "execution_count": null,
   "metadata": {},
   "outputs": [],
   "source": [
    "\"\"\"\n",
    "10) Crear un programa que pida al usuario 3 números e imprima por pantalla el promedio de\n",
    "dichos números.\n",
    "\"\"\"\n",
    "\n",
    "\n",
    "num1 = float(input(\"Ingrese el primer número: \"))\n",
    "num2 = float(input(\"Ingrese el segundo número: \"))\n",
    "num3 = float(input(\"Ingrese el tercer número: \"))\n",
    "\n",
    "\n",
    "promedio = (num1 + num2 + num3) / 3\n",
    "print(f\"El promedio de los 3 números es: {promedio}\")\n"
   ]
  },
  {
   "cell_type": "code",
   "execution_count": 2,
   "metadata": {},
   "outputs": [
    {
     "name": "stdout",
     "output_type": "stream",
     "text": [
      "30.0\n"
     ]
    }
   ],
   "source": [
    "a=10\n",
    "b= 3.0\n",
    "\n",
    "c=a*b\n",
    "\n",
    "print(c)"
   ]
  }
 ],
 "metadata": {
  "kernelspec": {
   "display_name": "Python 3",
   "language": "python",
   "name": "python3"
  },
  "language_info": {
   "codemirror_mode": {
    "name": "ipython",
    "version": 3
   },
   "file_extension": ".py",
   "mimetype": "text/x-python",
   "name": "python",
   "nbconvert_exporter": "python",
   "pygments_lexer": "ipython3",
   "version": "3.12.2"
  }
 },
 "nbformat": 4,
 "nbformat_minor": 2
}
