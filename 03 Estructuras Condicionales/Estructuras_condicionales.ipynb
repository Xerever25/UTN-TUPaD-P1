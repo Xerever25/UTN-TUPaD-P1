{
 "cells": [
  {
   "cell_type": "code",
   "execution_count": 2,
   "id": "858c21c8",
   "metadata": {},
   "outputs": [],
   "source": [
    "#1) Escribir un programa que solicite la edad del usuario. Si el usuario es mayor de 18 años,\n",
    "#deberá mostrar un mensaje en pantalla que diga “Es mayor de edad”.\n",
    "\n",
    "edad= int(input(\"ingrese su edad\"))\n",
    "\n",
    "if edad >= 18:\n",
    "    print(\"Es mayor de edad\")"
   ]
  },
  {
   "cell_type": "code",
   "execution_count": 8,
   "id": "01045239",
   "metadata": {},
   "outputs": [
    {
     "name": "stdout",
     "output_type": "stream",
     "text": [
      "aprovado\n"
     ]
    }
   ],
   "source": [
    "# 2) Escribir un programa que solicite su nota al usuario. Si la nota es mayor o igual a 6, deberá\n",
    "# mostrar por pantalla un mensaje que diga “Aprobado”; en caso contrario deberá mostrar el\n",
    "# mensaje “Desaprobado”\n",
    "\n",
    "nota= int(input(\"ingrese su nota\"))\n",
    "\n",
    "if nota >= 6:\n",
    "    print(\"aprovado\")\n",
    "elif nota < 6:\n",
    "    print(\"desaprovado\")    \n"
   ]
  },
  {
   "cell_type": "code",
   "execution_count": 11,
   "id": "d5177ba3",
   "metadata": {},
   "outputs": [
    {
     "name": "stdout",
     "output_type": "stream",
     "text": [
      "Ha ingresado un número par\n"
     ]
    }
   ],
   "source": [
    "# 3) Escribir un programa que permita ingresar solo números pares. Si el usuario ingresa un\n",
    "# número par, imprimir por en pantalla el mensaje \"Ha ingresado un número par\"; en caso\n",
    "# contrario, imprimir por pantalla \"Por favor, ingrese un número par\". Nota: investigar el uso del\n",
    "# operador de módulo (%) en Python para evaluar si un número es par o impar.\n",
    "\n",
    "nuemero= int(input(\"Ingrese un número: \"))\n",
    "\n",
    "if nuemero % 2 == 0:\n",
    "    print(\"Ha ingresado un número par\")\n",
    "else:\n",
    "    print(\"porfavor,ingrese un numero par\")"
   ]
  },
  {
   "cell_type": "code",
   "execution_count": 13,
   "id": "67dedce8",
   "metadata": {},
   "outputs": [
    {
     "name": "stdout",
     "output_type": "stream",
     "text": [
      "Eres un niño/a\n"
     ]
    }
   ],
   "source": [
    "# 4) Escribir un programa que solicite al usuario su edad e imprima por pantalla a cuál de las\n",
    "# siguientes categorías pertenece:\n",
    "# ● Niño/a: menor de 12 años.\n",
    "# ● Adolescente: mayor o igual que 12 años y menor que 18 años.\n",
    "# ● Adulto/a joven: mayor o igual que 18 años y menor que 30 años.\n",
    "# ● Adulto/a: mayor o igual que 30 años.\n",
    "\n",
    "edad= int(input(\"Ingrese su edad: \"))\n",
    "\n",
    "if edad < 12:\n",
    "    print(\"Eres un niño/a\")\n",
    "elif edad >= 12 and edad < 18:\n",
    "    print(\"Eres un adolecente/a\")\n",
    "elif edad >= 18 and edad < 30:\n",
    "    print(\"Eres un adulto/a joven\")\n",
    "else:\n",
    "    print(\"eres un adulto/a\")"
   ]
  },
  {
   "cell_type": "code",
   "execution_count": 15,
   "id": "a5b6acbc",
   "metadata": {},
   "outputs": [
    {
     "name": "stdout",
     "output_type": "stream",
     "text": [
      "porfavor ingrese una contraseña de entre 8 a 14 caracteres\n"
     ]
    }
   ],
   "source": [
    "# 5) Escribir un programa que permita introducir contraseñas de entre 8 y 14 caracteres\n",
    "# (incluyendo 8 y 14). Si el usuario ingresa una contraseña de longitud adecuada, imprimir por en\n",
    "# pantalla el mensaje \"Ha ingresado una contraseña correcta\"; en caso contrario, imprimir por\n",
    "# pantalla \"Por favor, ingrese una contraseña de entre 8 y 14 caracteres\". Nota: investigue el uso\n",
    "# de la función len() en Python para evaluar la cantidad de elementos que tiene un iterable tal\n",
    "# como una lista o un string.\n",
    "\n",
    "\n",
    "cotraseña= str(input(\"ingrese una contraseña entre 8 y 14 caracteres\"))\n",
    "\n",
    "if len(cotraseña) >= 8 and len(cotraseña) <= 14:\n",
    "    print(\"Ha ingresado una contraseña correcta\")\n",
    "else:\n",
    "    print(\"porfavor ingrese una contraseña de entre 8 a 14 caracteres\")"
   ]
  },
  {
   "cell_type": "code",
   "execution_count": 24,
   "id": "d8f86093",
   "metadata": {},
   "outputs": [
    {
     "name": "stdout",
     "output_type": "stream",
     "text": [
      "Lista de números aleatorios: [12, 45, 65, 76, 54, 58, 31, 88, 46, 9, 11, 73, 32, 75, 13, 6, 34, 27, 3, 31, 4, 54, 60, 45, 76, 43, 95, 28, 61, 27, 79, 73, 85, 94, 93, 71, 33, 99, 45, 12, 25, 27, 77, 24, 67, 53, 95, 70, 62, 75]\n",
      "Moda: 45\n",
      "Mediana: 53.5\n",
      "Media: 50.82\n",
      "Sin sesgo\n"
     ]
    }
   ],
   "source": [
    "# 6) El paquete statistics de python contiene funciones que permiten tomar una lista de números\n",
    "# y calcular la moda, la mediana y la media de dichos números. Un ejemplo de su uso es el\n",
    "# siguiente:\n",
    "# from statistics import mode, median, mean\n",
    "# mi_lista = [1,2,5,5,3]\n",
    "# mean(mi_lista)\n",
    "# En la documentación oficial se puede encontrar más información sobre este paquete:\n",
    "# https://docs.python.org/es/3.8/library/statistics.html.\n",
    "# La moda (mode), la mediana (median) y la media (mean) son parámetros estadísticos que se\n",
    "# pueden utilizar para predecir la forma de una distribución normal a partir del siguiente criterio:\n",
    "# ● Sesgo positivo o a la derecha: cuando la media es mayor que la mediana y, a su vez, la\n",
    "# mediana es mayor que la moda.\n",
    "# ● Sesgo negativo o a la izquierda: cuando la media es menor que la mediana y, a su vez,\n",
    "# la mediana es menor que la moda.\n",
    "# ● Sin sesgo: cuando la media, la mediana y la moda son iguales.\n",
    "# Teniendo en cuenta lo antes mencionado, escribir un programa que tome la lista\n",
    "# numeros_aleatorios, calcule su moda, su mediana y su media y las compare para determinar si\n",
    "# hay sesgo positivo, negativo o no hay sesgo. Imprimir el resultado por pantalla.\n",
    "# Definir la lista numeros_aleatorios de la siguiente forma:\n",
    "# import random\n",
    "# numeros_aleatorios = [random.randint(1, 100) for i in range(50)]\n",
    "# Nota: el bloque de código anterior crea una lista con 50 números entre 1 y 100 elegidos de\n",
    "# forma aleatoria.\n",
    "\n",
    "\n",
    "from statistics import mode, median, mean\n",
    "import random\n",
    "\n",
    "Numeros_aleatorios= [random.randint(1,100) for i in range(50)]\n",
    "\n",
    "\n",
    "moda = mode(Numeros_aleatorios)\n",
    "mediana = median(Numeros_aleatorios)\n",
    "media = mean(Numeros_aleatorios)\n",
    "\n",
    "\n",
    "print(f\"Lista de números aleatorios: {Numeros_aleatorios}\")\n",
    "print(f\"Moda: {moda}\")\n",
    "print(f\"Mediana: {mediana}\")\n",
    "print(f\"Media: {media}\")\n",
    "\n",
    "# Comparar para determinar el sesgo\n",
    "if media > mediana > moda:\n",
    "    print(\"Sesgo positivo o a la derecha\")\n",
    "elif media < mediana < moda:\n",
    "    print(\"Sesgo negativo o a la izquierda\")\n",
    "else:\n",
    "    print(\"Sin sesgo\")"
   ]
  },
  {
   "cell_type": "code",
   "execution_count": 28,
   "id": "f942970b",
   "metadata": {},
   "outputs": [
    {
     "name": "stdout",
     "output_type": "stream",
     "text": [
      "Antoni!\n"
     ]
    }
   ],
   "source": [
    "# 7) Escribir un programa que solicite una frase o palabra al usuario. Si el string ingresado\n",
    "# termina con vocal, añadir un signo de exclamación al final e imprimir el string resultante por\n",
    "# pantalla; en caso contrario, dejar el string tal cual lo ingresó el usuario e imprimirlo por\n",
    "# pantalla.\n",
    "\n",
    "frase= str(input(\"ingrese una frase\"))\n",
    "\n",
    "if frase[-1] == \"a\" or frase[-1] == \"e\" or frase[-1] == \"i\" or frase[-1] == \"o\" or frase[-1] == \"u\":\n",
    "    frase = frase + \"!\"\n",
    "    print(frase)\n",
    "else:\n",
    "    print(frase)"
   ]
  },
  {
   "cell_type": "code",
   "execution_count": 33,
   "id": "b317523d",
   "metadata": {},
   "outputs": [
    {
     "name": "stdout",
     "output_type": "stream",
     "text": [
      "Julian\n"
     ]
    }
   ],
   "source": [
    "# 8) Escribir un programa que solicite al usuario que ingrese su nombre y el número 1, 2 o 3\n",
    "# dependiendo de la opción que desee:\n",
    "# 1. Si quiere su nombre en mayúsculas. Por ejemplo: PEDRO.\n",
    "# 2. Si quiere su nombre en minúsculas. Por ejemplo: pedro.\n",
    "# 3. Si quiere su nombre con la primera letra mayúscula. Por ejemplo: Pedro.\n",
    "# El programa debe transformar el nombre ingresado de acuerdo a la opción seleccionada por el\n",
    "# usuario e imprimir el resultado por pantalla. Nota: investigue uso de las funciones upper(),\n",
    "# lower() y title() de Python para convertir entre mayúsculas y minúsculas.\n",
    "\n",
    "Nombre= str(input(\"ingrese su nombre\"))\n",
    "\n",
    "opcion= int(input(\"\\n 1.Nombre enteramente en mayusculas \\n 2.Nombre enteramente en minusculas\\n 3. Nombre con solo la primera letra en mayuscula\"))\n",
    "\n",
    "if opcion == 1:\n",
    "    print(Nombre.upper())\n",
    "elif opcion == 2:\n",
    "    print(Nombre.lower())\n",
    "elif opcion == 3:\n",
    "    print(Nombre.title())"
   ]
  },
  {
   "cell_type": "code",
   "execution_count": null,
   "id": "375f08d2",
   "metadata": {},
   "outputs": [],
   "source": [
    "# 9) Escribir un programa que pida al usuario la magnitud de un terremoto, clasifique la\n",
    "# magnitud en una de las siguientes categorías según la escala de Richter e imprima el resultado\n",
    "# por pantalla:\n",
    "# ● Menor que 3: \"Muy leve\" (imperceptible).\n",
    "# ● Mayor o igual que 3 y menor que 4: \"Leve\" (ligeramente perceptible).\n",
    "# ● Mayor o igual que 4 y menor que 5: \"Moderado\" (sentido por personas, pero\n",
    "# generalmente no causa daños).\n",
    "# ● Mayor o igual que 5 y menor que 6: \"Fuerte\" (puede causar daños en estructuras\n",
    "# débiles).\n",
    "# ● Mayor o igual que 6 y menor que 7: \"Muy Fuerte\" (puede causar daños significativos).\n",
    "# ● Mayor o igual que 7: \"Extremo\" (puede causar graves daños a gran escala).\n",
    "\n",
    "magnitud= int(input(\"ingrese la magnitud del terremoto\"))\n",
    "\n",
    "if magnitud < 3:\n",
    "    print(\"Muy leve\")\n",
    "elif magnitud >= 3 and magnitud < 4:\n",
    "    print(\"Leve\")\n",
    "elif magnitud >= 4 and magnitud < 5:\n",
    "    print(\"Moderado\")\n",
    "elif magnitud >= 5 and magnitud < 6:\n",
    "    print(\"Fuerte\")\n",
    "elif magnitud >= 6 and magnitud < 7:\n",
    "    print(\"Muy Fuerte\")\n",
    "else:\n",
    "    print(\"Extremo\")\n"
   ]
  },
  {
   "cell_type": "code",
   "execution_count": null,
   "id": "e068f56b",
   "metadata": {},
   "outputs": [],
   "source": [
    "# 10) Utilizando la información aportada en la siguiente tabla sobre las estaciones del año\n",
    "# Periodo del año\n",
    "# Estación en el\n",
    "# hemisferio norte\n",
    "# Estación en el\n",
    "# hemisferio sur\n",
    "# Desde el 21 de diciembre hasta el 20 de\n",
    "# marzo (incluidos)\n",
    "# Invierno Verano\n",
    "# Desde el 21 de marzo hasta el 20 de junio\n",
    "# (incluidos)\n",
    "# Primavera Otoño\n",
    "# Desde el 21 de junio hasta el 20 de\n",
    "# septiembre (incluidos)\n",
    "# Verano Invierno\n",
    "# Desde el 21 de septiembre hasta el 20 de\n",
    "# diciembre (incluidos)\n",
    "# Otoño Primavera\n",
    "# Escribir un programa que pregunte al usuario en cuál hemisferio se encuentra (N/S), qué mes\n",
    "# del año es y qué día es. El programa deberá utilizar esa información para imprimir por pantalla\n",
    "# si el usuario se encuentra en otoño, invierno, primavera o verano.\n",
    "\n",
    "\n",
    "hemisferio = input(\"¿En qué hemisferio estás? (N/S): \").upper()\n",
    "mes = int(input(\"¿Qué mes es? (1-12): \"))\n",
    "dia = int(input(\"¿Qué día del mes es? (1-31): \"))\n",
    "\n",
    "\n",
    "fecha = (mes, dia)\n",
    "\n",
    "\n",
    "if hemisferio == \"N\":\n",
    "    if (fecha >= (12, 21)) or (fecha <= (3, 20)):\n",
    "        estacion = \"Invierno\"\n",
    "    elif (fecha >= (3, 21)) and (fecha <= (6, 20)):\n",
    "        estacion = \"Primavera\"\n",
    "    elif (fecha >= (6, 21)) and (fecha <= (9, 20)):\n",
    "        estacion = \"Verano\"\n",
    "    elif (fecha >= (9, 21)) and (fecha <= (12, 20)):\n",
    "        estacion = \"Otoño\"\n",
    "    else:\n",
    "        estacion = \"Fecha inválida\"\n",
    "\n",
    "elif hemisferio == \"S\":\n",
    "    if (fecha >= (12, 21)) or (fecha <= (3, 20)):\n",
    "        estacion = \"Verano\"\n",
    "    elif (fecha >= (3, 21)) and (fecha <= (6, 20)):\n",
    "        estacion = \"Otoño\"\n",
    "    elif (fecha >= (6, 21)) and (fecha <= (9, 20)):\n",
    "        estacion = \"Invierno\"\n",
    "    elif (fecha >= (9, 21)) and (fecha <= (12, 20)):\n",
    "        estacion = \"Primavera\"\n",
    "    else:\n",
    "        estacion = \"Fecha inválida\"\n",
    "else:\n",
    "    estacion = \"Hemisferio inválido\"\n",
    "\n",
    "\n",
    "print(\"Estás en:\", estacion)\n"
   ]
  }
 ],
 "metadata": {
  "kernelspec": {
   "display_name": "Python 3",
   "language": "python",
   "name": "python3"
  },
  "language_info": {
   "codemirror_mode": {
    "name": "ipython",
    "version": 3
   },
   "file_extension": ".py",
   "mimetype": "text/x-python",
   "name": "python",
   "nbconvert_exporter": "python",
   "pygments_lexer": "ipython3",
   "version": "3.12.2"
  }
 },
 "nbformat": 4,
 "nbformat_minor": 5
}
